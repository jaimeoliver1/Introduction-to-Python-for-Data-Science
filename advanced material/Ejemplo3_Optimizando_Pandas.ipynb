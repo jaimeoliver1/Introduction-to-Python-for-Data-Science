{
 "cells": [
  {
   "cell_type": "code",
   "execution_count": 1,
   "metadata": {},
   "outputs": [],
   "source": [
    "import numpy as np\n",
    "import pandas as pd\n",
    "from math import *\n",
    "%load_ext line_profiler\n",
    "%load_ext memory_profiler"
   ]
  },
  {
   "cell_type": "markdown",
   "metadata": {},
   "source": [
    "# Optimizando Pandas\n",
    "\n",
    "1. Bucle sobre las filas\n",
    "2. Bucle sobre los indices\n",
    "3. Bucle con iterrows()\n",
    "4. Bucle con apply()\n",
    "5. Vectorizacion con Pandas series\n",
    "6. Vectorizacion con NumPy arrays"
   ]
  },
  {
   "cell_type": "markdown",
   "metadata": {},
   "source": [
    "# Funciones"
   ]
  },
  {
   "cell_type": "code",
   "execution_count": 10,
   "metadata": {
    "collapsed": true
   },
   "outputs": [],
   "source": [
    "# Funcion basica que calcula la distancia entre dos puntos de la tierra en https://en.wikipedia.org/wiki/Haversine_formula\n",
    "def haversine(lat1, lon1, lat2, lon2):\n",
    "    MILES = 3959\n",
    "    lat1, lon1, lat2, lon2 = map(np.deg2rad, [lat1, lon1, lat2, lon2])\n",
    "    dlat = lat2 - lat1 \n",
    "    dlon = lon2 - lon1 \n",
    "    a = np.sin(dlat/2)**2 + np.cos(lat1) * np.cos(lat2) * np.sin(dlon/2)**2\n",
    "    c = 2 * np.arcsin(np.sqrt(a)) \n",
    "    total_miles = MILES * c\n",
    "    return total_miles\n",
    "\n",
    "# Funcion que aplica sobre las filas de un Dataframe y devuelve una serie de distancias a un punto dado\n",
    "def haversine_looping(df):\n",
    "    distance_list = []\n",
    "    for i in range(0, len(df)):\n",
    "        d = haversine(40.671, -73.985, df.iloc[i]['latitude'], df.iloc[i]['longitude'])\n",
    "        distance_list.append(d)\n",
    "    return distance_list\n",
    "\n",
    "# Funcion que aplica sobre los indices de un Dataframe y devuelve una serie de distancias a un punto dado\n",
    "def haversine_looping_index(df):\n",
    "    distance_list = []\n",
    "    for idx in df.index:\n",
    "        d = haversine(40.671, -73.985, df.loc[idx,'latitude'], df.loc[idx,'longitude'])\n",
    "        distance_list.append(d)\n",
    "    return distance_list"
   ]
  },
  {
   "cell_type": "code",
   "execution_count": 3,
   "metadata": {},
   "outputs": [
    {
     "data": {
      "text/html": [
       "<div>\n",
       "<style>\n",
       "    .dataframe thead tr:only-child th {\n",
       "        text-align: right;\n",
       "    }\n",
       "\n",
       "    .dataframe thead th {\n",
       "        text-align: left;\n",
       "    }\n",
       "\n",
       "    .dataframe tbody tr th {\n",
       "        vertical-align: top;\n",
       "    }\n",
       "</style>\n",
       "<table border=\"1\" class=\"dataframe\">\n",
       "  <thead>\n",
       "    <tr style=\"text-align: right;\">\n",
       "      <th></th>\n",
       "      <th>ean_hotel_id</th>\n",
       "      <th>name</th>\n",
       "      <th>address1</th>\n",
       "      <th>city</th>\n",
       "      <th>state_province</th>\n",
       "      <th>postal_code</th>\n",
       "      <th>latitude</th>\n",
       "      <th>longitude</th>\n",
       "      <th>star_rating</th>\n",
       "      <th>high_rate</th>\n",
       "      <th>low_rate</th>\n",
       "    </tr>\n",
       "  </thead>\n",
       "  <tbody>\n",
       "    <tr>\n",
       "      <th>0</th>\n",
       "      <td>269955</td>\n",
       "      <td>Hilton Garden Inn Albany/SUNY Area</td>\n",
       "      <td>1389 Washington Ave</td>\n",
       "      <td>Albany</td>\n",
       "      <td>NY</td>\n",
       "      <td>12206</td>\n",
       "      <td>42.68751</td>\n",
       "      <td>-73.81643</td>\n",
       "      <td>3.0</td>\n",
       "      <td>154.0272</td>\n",
       "      <td>124.0216</td>\n",
       "    </tr>\n",
       "    <tr>\n",
       "      <th>1</th>\n",
       "      <td>113431</td>\n",
       "      <td>Courtyard by Marriott Albany Thruway</td>\n",
       "      <td>1455 Washington Avenue</td>\n",
       "      <td>Albany</td>\n",
       "      <td>NY</td>\n",
       "      <td>12206</td>\n",
       "      <td>42.68971</td>\n",
       "      <td>-73.82021</td>\n",
       "      <td>3.0</td>\n",
       "      <td>179.0100</td>\n",
       "      <td>134.0000</td>\n",
       "    </tr>\n",
       "    <tr>\n",
       "      <th>2</th>\n",
       "      <td>108151</td>\n",
       "      <td>Radisson Hotel Albany</td>\n",
       "      <td>205 Wolf Rd</td>\n",
       "      <td>Albany</td>\n",
       "      <td>NY</td>\n",
       "      <td>12205</td>\n",
       "      <td>42.72410</td>\n",
       "      <td>-73.79822</td>\n",
       "      <td>3.0</td>\n",
       "      <td>134.1700</td>\n",
       "      <td>84.1600</td>\n",
       "    </tr>\n",
       "    <tr>\n",
       "      <th>3</th>\n",
       "      <td>254756</td>\n",
       "      <td>Hilton Garden Inn Albany Medical Center</td>\n",
       "      <td>62 New Scotland Ave</td>\n",
       "      <td>Albany</td>\n",
       "      <td>NY</td>\n",
       "      <td>12208</td>\n",
       "      <td>42.65157</td>\n",
       "      <td>-73.77638</td>\n",
       "      <td>3.0</td>\n",
       "      <td>308.2807</td>\n",
       "      <td>228.4597</td>\n",
       "    </tr>\n",
       "    <tr>\n",
       "      <th>4</th>\n",
       "      <td>198232</td>\n",
       "      <td>CrestHill Suites SUNY University Albany</td>\n",
       "      <td>1415 Washington Avenue</td>\n",
       "      <td>Albany</td>\n",
       "      <td>NY</td>\n",
       "      <td>12206</td>\n",
       "      <td>42.68873</td>\n",
       "      <td>-73.81854</td>\n",
       "      <td>3.0</td>\n",
       "      <td>169.3900</td>\n",
       "      <td>89.3900</td>\n",
       "    </tr>\n",
       "  </tbody>\n",
       "</table>\n",
       "</div>"
      ],
      "text/plain": [
       "   ean_hotel_id                                     name  \\\n",
       "0        269955       Hilton Garden Inn Albany/SUNY Area   \n",
       "1        113431     Courtyard by Marriott Albany Thruway   \n",
       "2        108151                    Radisson Hotel Albany   \n",
       "3        254756  Hilton Garden Inn Albany Medical Center   \n",
       "4        198232  CrestHill Suites SUNY University Albany   \n",
       "\n",
       "                 address1    city state_province postal_code  latitude  \\\n",
       "0     1389 Washington Ave  Albany             NY       12206  42.68751   \n",
       "1  1455 Washington Avenue  Albany             NY       12206  42.68971   \n",
       "2             205 Wolf Rd  Albany             NY       12205  42.72410   \n",
       "3     62 New Scotland Ave  Albany             NY       12208  42.65157   \n",
       "4  1415 Washington Avenue  Albany             NY       12206  42.68873   \n",
       "\n",
       "   longitude  star_rating  high_rate  low_rate  \n",
       "0  -73.81643          3.0   154.0272  124.0216  \n",
       "1  -73.82021          3.0   179.0100  134.0000  \n",
       "2  -73.79822          3.0   134.1700   84.1600  \n",
       "3  -73.77638          3.0   308.2807  228.4597  \n",
       "4  -73.81854          3.0   169.3900   89.3900  "
      ]
     },
     "execution_count": 3,
     "metadata": {},
     "output_type": "execute_result"
    }
   ],
   "source": [
    "df = pd.read_csv('new_york_hotels.csv',encoding='cp1252')\n",
    "df.head()"
   ]
  },
  {
   "cell_type": "code",
   "execution_count": 71,
   "metadata": {},
   "outputs": [
    {
     "data": {
      "text/plain": [
       "(1631, 12)"
      ]
     },
     "execution_count": 71,
     "metadata": {},
     "output_type": "execute_result"
    }
   ],
   "source": [
    "df.shape"
   ]
  },
  {
   "cell_type": "code",
   "execution_count": 72,
   "metadata": {},
   "outputs": [
    {
     "data": {
      "text/plain": [
       "ean_hotel_id        int64\n",
       "name               object\n",
       "address1           object\n",
       "city               object\n",
       "state_province     object\n",
       "postal_code        object\n",
       "latitude          float64\n",
       "longitude         float64\n",
       "star_rating       float64\n",
       "high_rate         float64\n",
       "low_rate          float64\n",
       "distance          float64\n",
       "dtype: object"
      ]
     },
     "execution_count": 72,
     "metadata": {},
     "output_type": "execute_result"
    }
   ],
   "source": [
    "df.dtypes"
   ]
  },
  {
   "cell_type": "markdown",
   "metadata": {},
   "source": [
    "## 1. Bucle sobre los registros"
   ]
  },
  {
   "cell_type": "code",
   "execution_count": 8,
   "metadata": {},
   "outputs": [
    {
     "name": "stdout",
     "output_type": "stream",
     "text": [
      "1 loop, best of 3: 541 ms per loop\n"
     ]
    }
   ],
   "source": [
    "%%timeit\n",
    "df['distance'] = haversine_looping(df)"
   ]
  },
  {
   "cell_type": "markdown",
   "metadata": {},
   "source": [
    "## 2. Bucle sobre los indices"
   ]
  },
  {
   "cell_type": "code",
   "execution_count": 11,
   "metadata": {},
   "outputs": [
    {
     "name": "stdout",
     "output_type": "stream",
     "text": [
      "10 loops, best of 3: 54.3 ms per loop\n"
     ]
    }
   ],
   "source": [
    "%%timeit\n",
    "df['distance'] = haversine_looping_index(df)"
   ]
  },
  {
   "cell_type": "markdown",
   "metadata": {},
   "source": [
    "## 3. Bucle sobre iterrows"
   ]
  },
  {
   "cell_type": "code",
   "execution_count": 34,
   "metadata": {},
   "outputs": [
    {
     "name": "stdout",
     "output_type": "stream",
     "text": [
      "10 loops, best of 3: 148 ms per loop\n"
     ]
    }
   ],
   "source": [
    "%%timeit\n",
    "# Haversine aplicado a las filas via iterrows\n",
    "haversine_series = []\n",
    "for index, row in df.iterrows():\n",
    "    haversine_series.append(haversine(40.671, -73.985,\\\n",
    "                                      row['latitude'], row['longitude']))\n",
    "df['distance'] = haversine_series"
   ]
  },
  {
   "cell_type": "markdown",
   "metadata": {},
   "source": [
    "## 4. Bucle con apply"
   ]
  },
  {
   "cell_type": "code",
   "execution_count": 11,
   "metadata": {},
   "outputs": [
    {
     "name": "stdout",
     "output_type": "stream",
     "text": [
      "10 loops, best of 3: 65.9 ms per loop\n"
     ]
    }
   ],
   "source": [
    "%%timeit\n",
    "df.apply(lambda row: haversine(40.671, -73.985, row['latitude'], row['longitude']), axis=1)"
   ]
  },
  {
   "cell_type": "code",
   "execution_count": 4,
   "metadata": {},
   "outputs": [],
   "source": [
    "# Haversine aplicado sobre filas con Profiling\n",
    "%lprun -f haversine df.apply(lambda row: haversine(40.671, -73.985, row[\"latitude\"], row[\"longitude\"]), axis=1)"
   ]
  },
  {
   "cell_type": "markdown",
   "metadata": {},
   "source": [
    "## 5. Bucle sobre vectorizacion de Pandas"
   ]
  },
  {
   "cell_type": "code",
   "execution_count": 12,
   "metadata": {},
   "outputs": [
    {
     "name": "stdout",
     "output_type": "stream",
     "text": [
      "1000 loops, best of 3: 1.54 ms per loop\n"
     ]
    }
   ],
   "source": [
    "%%timeit\n",
    "df['distance'] = haversine(40.671, -73.985, df['latitude'], df['longitude'])"
   ]
  },
  {
   "cell_type": "code",
   "execution_count": 13,
   "metadata": {},
   "outputs": [],
   "source": [
    "# Vectorizacion con profiling\n",
    "%lprun -f haversine haversine(40.671, -73.985, df[\"latitude\"], df[\"longitude\"])"
   ]
  },
  {
   "cell_type": "markdown",
   "metadata": {},
   "source": [
    "## 6. Bucle sobre vectorizacion numPy arrays"
   ]
  },
  {
   "cell_type": "code",
   "execution_count": 14,
   "metadata": {},
   "outputs": [
    {
     "name": "stdout",
     "output_type": "stream",
     "text": [
      "The slowest run took 6.92 times longer than the fastest. This could mean that an intermediate result is being cached.\n",
      "1000 loops, best of 3: 264 µs per loop\n"
     ]
    }
   ],
   "source": [
    "%%timeit\n",
    "df['distance'] = haversine(40.671, -73.985,df['latitude'].values, df['longitude'].values)"
   ]
  },
  {
   "cell_type": "code",
   "execution_count": 8,
   "metadata": {},
   "outputs": [
    {
     "name": "stdout",
     "output_type": "stream",
     "text": [
      "The slowest run took 80.56 times longer than the fastest. This could mean that an intermediate result is being cached.\n",
      "100000 loops, best of 3: 6.26 µs per loop\n"
     ]
    }
   ],
   "source": [
    "%%timeit\n",
    "# Conversion de pandas arrays a NumPy ndarrays\n",
    "np_lat = df['latitude'].values\n",
    "np_lon = df['longitude'].values"
   ]
  },
  {
   "cell_type": "code",
   "execution_count": 15,
   "metadata": {},
   "outputs": [],
   "source": [
    "%lprun -f haversine df[\"distance\"] = haversine(40.671, -73.985, df[\"latitude\"].values, df[\"longitude\"].values)"
   ]
  },
  {
   "cell_type": "markdown",
   "metadata": {},
   "source": [
    "### Memory usage"
   ]
  },
  {
   "cell_type": "code",
   "execution_count": 68,
   "metadata": {},
   "outputs": [
    {
     "name": "stdout",
     "output_type": "stream",
     "text": [
      "ERROR: Could not find file <ipython-input-67-d2b5c58ef814>\n",
      "NOTE: %mprun can only be used on functions defined in physical files, and not in the IPython environment.\n",
      "\n"
     ]
    }
   ],
   "source": [
    "%mprun -f haversine df[\"distance\"] = haversine(40.671, -73.985, df[\"latitude\"].values, df[\"longitude\"].values)"
   ]
  },
  {
   "cell_type": "code",
   "execution_count": 65,
   "metadata": {},
   "outputs": [
    {
     "name": "stdout",
     "output_type": "stream",
     "text": [
      "\n"
     ]
    }
   ],
   "source": [
    "from haversine import haversine\n",
    "%mprun -f haversine df[\"distance\"] = haversine(40.671, -73.985, df[\"latitude\"].values, df[\"longitude\"].values)"
   ]
  },
  {
   "cell_type": "code",
   "execution_count": null,
   "metadata": {
    "collapsed": true
   },
   "outputs": [],
   "source": []
  },
  {
   "cell_type": "code",
   "execution_count": null,
   "metadata": {
    "collapsed": true
   },
   "outputs": [],
   "source": []
  }
 ],
 "metadata": {
  "kernelspec": {
   "display_name": "Python 3",
   "language": "python",
   "name": "python3"
  },
  "language_info": {
   "codemirror_mode": {
    "name": "ipython",
    "version": 3
   },
   "file_extension": ".py",
   "mimetype": "text/x-python",
   "name": "python",
   "nbconvert_exporter": "python",
   "pygments_lexer": "ipython3",
   "version": "3.5.4"
  },
  "toc": {
   "nav_menu": {},
   "number_sections": true,
   "sideBar": true,
   "skip_h1_title": false,
   "toc_cell": false,
   "toc_position": {},
   "toc_section_display": "block",
   "toc_window_display": false
  }
 },
 "nbformat": 4,
 "nbformat_minor": 2
}
